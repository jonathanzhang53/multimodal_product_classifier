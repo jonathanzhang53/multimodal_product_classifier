{
 "cells": [
  {
   "cell_type": "code",
   "execution_count": 5,
   "id": "1da66fb4",
   "metadata": {},
   "outputs": [
    {
     "name": "stdout",
     "output_type": "stream",
     "text": [
      "      image_id  height  width             path\n",
      "0  010-mllS7JL     106    106  14/14fe8812.jpg\n",
      "1  01dkn0Gyx0L     122    122  da/daab0cad.jpg\n",
      "2  01sUPg0387L     111    111  d2/d2daaae9.jpg\n",
      "3  1168jc-5r1L     186    186  3a/3a4e88e6.jpg\n",
      "4  11RUV5Fs65L      30    500  d9/d91ab9cf.jpg\n"
     ]
    }
   ],
   "source": [
    "import pandas as pd\n",
    "\n",
    "df = pd.read_csv('images/metadata/images.csv')\n",
    "print(df.head())"
   ]
  },
  {
   "cell_type": "code",
   "execution_count": 11,
   "id": "3c9f9b3b",
   "metadata": {},
   "outputs": [
    {
     "name": "stdout",
     "output_type": "stream",
     "text": [
      "Number of images: 398212\n"
     ]
    }
   ],
   "source": [
    "print(\"Number of images: \" + str(df[\"image_id\"].size))"
   ]
  },
  {
   "cell_type": "code",
   "execution_count": 17,
   "id": "2d1189d4",
   "metadata": {},
   "outputs": [
    {
     "name": "stdout",
     "output_type": "stream",
     "text": [
      "Total JSON entries: 147702\n",
      "Multiple images can be associated with one entry.\n"
     ]
    }
   ],
   "source": [
    "import os\n",
    "import json\n",
    "\n",
    "dir_path = 'listings/listings/metadata/'\n",
    "total_entries = 0\n",
    "\n",
    "for file in os.listdir(dir_path):\n",
    "    if file.endswith('.json'):\n",
    "        with open(os.path.join(dir_path, file), 'r') as f:\n",
    "            for line in f:\n",
    "                data = json.loads(line)\n",
    "                total_entries += 1\n",
    "\n",
    "print(f\"Total JSON entries: {total_entries}\")\n",
    "print(\"Multiple images can be associated with one entry.\")"
   ]
  },
  {
   "cell_type": "code",
   "execution_count": null,
   "id": "0d8569bf",
   "metadata": {},
   "outputs": [],
   "source": []
  }
 ],
 "metadata": {
  "kernelspec": {
   "display_name": "Python 3 (ipykernel)",
   "language": "python",
   "name": "python3"
  },
  "language_info": {
   "codemirror_mode": {
    "name": "ipython",
    "version": 3
   },
   "file_extension": ".py",
   "mimetype": "text/x-python",
   "name": "python",
   "nbconvert_exporter": "python",
   "pygments_lexer": "ipython3",
   "version": "3.10.8"
  }
 },
 "nbformat": 4,
 "nbformat_minor": 5
}
